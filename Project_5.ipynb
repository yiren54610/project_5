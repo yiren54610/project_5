{
 "cells": [
  {
   "cell_type": "markdown",
   "id": "af07d7d3",
   "metadata": {},
   "source": [
    "# 1. Most downloaded otome games in 2025 Q1, data from [Sensortower](sensortower.com[https://sensortower.com/blog/2025-q1-unified-top-5-otome%20games-units-us-60789073241bc16eb88c6e7f])\n",
    "\n",
    "**1** [Love and deepspace](https://app.sensortower.com/overview/654319170b276e064b329296?country=US)  \n",
    "**2** [Dorian: Interactive Dramas Hub](https://app.sensortower.com/overview/60038cf5c86cbe76cd846cfa?country=US)  \n",
    "**3** [Boba Story](https://app.sensortower.com/overview/610f77279c96214ec4fe1388?country=US)  \n",
    "**4** [Anime Dating Sim: Steamy Waifu](https://app.sensortower.com/overview/647533dd5d2a176ec9b3b678?country=US)  \n",
    "**5** [NU: Carnival - Bliss](https://app.sensortower.com/overview/6582614bb759a80dbc1cbcc4?country=US)\n",
    "\n"
   ]
  },
  {
   "cell_type": "markdown",
   "id": "836ef176",
   "metadata": {},
   "source": [
    "# 2. Most loved Anime characters, results from [MyAnimeList](https://myanimelist.net/character.php)"
   ]
  },
  {
   "cell_type": "code",
   "execution_count": 4,
   "id": "c42b2d96",
   "metadata": {},
   "outputs": [],
   "source": [
    "from bs4 import BeautifulSoup\n",
    "import pandas as pd\n",
    "import requests"
   ]
  },
  {
   "cell_type": "code",
   "execution_count": 144,
   "id": "a35e627e",
   "metadata": {},
   "outputs": [
    {
     "name": "stdout",
     "output_type": "stream",
     "text": [
      "50 characters scraped\n",
      "100 characters scraped\n",
      "150 characters scraped\n",
      "200 characters scraped\n",
      "250 characters scraped\n",
      "300 characters scraped\n",
      "350 characters scraped\n",
      "400 characters scraped\n",
      "450 characters scraped\n",
      "500 characters scraped\n",
      "550 characters scraped\n",
      "600 characters scraped\n",
      "650 characters scraped\n",
      "700 characters scraped\n",
      "750 characters scraped\n",
      "800 characters scraped\n",
      "850 characters scraped\n",
      "900 characters scraped\n",
      "950 characters scraped\n",
      "1000 characters scraped\n",
      "top 1000 saved\n"
     ]
    }
   ],
   "source": [
    "base_url = \"https://myanimelist.net/character.php?limit=\"\n",
    "headers = {\n",
    "    \"User-Agent\": \"Mozilla/5.0 (Windows NT 10.0; Win64; x64) \" +\n",
    "                  \"AppleWebKit/537.36 (KHTML, like Gecko) \" +\n",
    "                  \"Chrome/58.0.3029.110 Safari/537.3\"\n",
    "}\n",
    "\n",
    "all_characters = []\n",
    "\n",
    "for offset in range(0, 1000, 50):\n",
    "    page_url = f\"{base_url}{offset}\"\n",
    "    response = requests.get(page_url, headers=headers)\n",
    "    time.sleep(3)\n",
    "    soup = BeautifulSoup(response.text, \"html.parser\")\n",
    "    rows = soup.find_all(\"tr\", class_=\"ranking-list\")\n",
    "    \n",
    "    if not rows:\n",
    "        print(f\"⚠️ No characters found at offset {offset} — possible block or page layout change.\")\n",
    "        break\n",
    "    \n",
    "    for roles in rows:\n",
    "        rank = roles.find(\"td\", class_=\"rank\").text.strip()\n",
    "        name = roles.find(\"td\", class_=\"people\").text.strip()\n",
    "        anime = roles.find(\"td\", class_=\"animeography\").text.strip()\n",
    "        favorites = roles.find(\"td\", class_=\"favorites\").text.strip().replace(\",\", \"\")\n",
    "        url = roles.find(\"a\")[\"href\"]\n",
    "        all_characters.append({\n",
    "            \"rank\": rank,\n",
    "            \"name\": name,\n",
    "            \"anime\": anime,\n",
    "            \"favorites\": int(favorites),\n",
    "            \"url\": url\n",
    "        })\n",
    "    print(f\"{len(all_characters)} characters scraped\")  # use len(all_characters)!\n",
    "    time.sleep(3)\n",
    "\n",
    "print(f\"top {len(all_characters)} saved\")\n"
   ]
  },
  {
   "cell_type": "code",
   "execution_count": 146,
   "id": "b01acfa8",
   "metadata": {},
   "outputs": [],
   "source": [
    "df = data = pd.DataFrame(all_characters)\n",
    "df.to_csv(\"top_1000_mal_characters_scraped.csv\", index=False)"
   ]
  },
  {
   "cell_type": "code",
   "execution_count": 148,
   "id": "9aef1d98",
   "metadata": {},
   "outputs": [
    {
     "data": {
      "text/html": [
       "<div>\n",
       "<style scoped>\n",
       "    .dataframe tbody tr th:only-of-type {\n",
       "        vertical-align: middle;\n",
       "    }\n",
       "\n",
       "    .dataframe tbody tr th {\n",
       "        vertical-align: top;\n",
       "    }\n",
       "\n",
       "    .dataframe thead th {\n",
       "        text-align: right;\n",
       "    }\n",
       "</style>\n",
       "<table border=\"1\" class=\"dataframe\">\n",
       "  <thead>\n",
       "    <tr style=\"text-align: right;\">\n",
       "      <th></th>\n",
       "      <th>rank</th>\n",
       "      <th>name</th>\n",
       "      <th>anime</th>\n",
       "      <th>favorites</th>\n",
       "      <th>url</th>\n",
       "    </tr>\n",
       "  </thead>\n",
       "  <tbody>\n",
       "    <tr>\n",
       "      <th>0</th>\n",
       "      <td>1</td>\n",
       "      <td>Lamperouge, Lelouch(ルルーシュ・ランペルージ)</td>\n",
       "      <td>Code Geass: Hangyaku no LelouchCode Geass: Han...</td>\n",
       "      <td>173552</td>\n",
       "      <td>https://myanimelist.net/character/417/Lelouch_...</td>\n",
       "    </tr>\n",
       "    <tr>\n",
       "      <th>1</th>\n",
       "      <td>2</td>\n",
       "      <td>Monkey D., Luffy(モンキー・D・ルフィ)</td>\n",
       "      <td>One PieceOne Piece Movie 01One Piece Movie 02:...</td>\n",
       "      <td>143840</td>\n",
       "      <td>https://myanimelist.net/character/40/Luffy_Mon...</td>\n",
       "    </tr>\n",
       "    <tr>\n",
       "      <th>2</th>\n",
       "      <td>3</td>\n",
       "      <td>Levi(リヴァイ)</td>\n",
       "      <td>Shingeki no Kyojin: Kuinaki SentakuShingeki no...</td>\n",
       "      <td>143364</td>\n",
       "      <td>https://myanimelist.net/character/45627/Levi</td>\n",
       "    </tr>\n",
       "    <tr>\n",
       "      <th>3</th>\n",
       "      <td>4</td>\n",
       "      <td>Lawliet, L(エル ローライト)</td>\n",
       "      <td>Death NoteDeath Note: Rewrite</td>\n",
       "      <td>128375</td>\n",
       "      <td>https://myanimelist.net/character/71/L_Lawliet</td>\n",
       "    </tr>\n",
       "    <tr>\n",
       "      <th>4</th>\n",
       "      <td>5</td>\n",
       "      <td>Roronoa, Zoro(ロロノア・ゾロ)</td>\n",
       "      <td>One PieceOne Piece Movie 01One Piece Movie 02:...</td>\n",
       "      <td>113243</td>\n",
       "      <td>https://myanimelist.net/character/62/Zoro_Roronoa</td>\n",
       "    </tr>\n",
       "  </tbody>\n",
       "</table>\n",
       "</div>"
      ],
      "text/plain": [
       "   rank                               name  \\\n",
       "0     1  Lamperouge, Lelouch(ルルーシュ・ランペルージ)   \n",
       "1     2       Monkey D., Luffy(モンキー・D・ルフィ)   \n",
       "2     3                         Levi(リヴァイ)   \n",
       "3     4               Lawliet, L(エル ローライト)   \n",
       "4     5             Roronoa, Zoro(ロロノア・ゾロ)   \n",
       "\n",
       "                                               anime  favorites  \\\n",
       "0  Code Geass: Hangyaku no LelouchCode Geass: Han...     173552   \n",
       "1  One PieceOne Piece Movie 01One Piece Movie 02:...     143840   \n",
       "2  Shingeki no Kyojin: Kuinaki SentakuShingeki no...     143364   \n",
       "3                      Death NoteDeath Note: Rewrite     128375   \n",
       "4  One PieceOne Piece Movie 01One Piece Movie 02:...     113243   \n",
       "\n",
       "                                                 url  \n",
       "0  https://myanimelist.net/character/417/Lelouch_...  \n",
       "1  https://myanimelist.net/character/40/Luffy_Mon...  \n",
       "2       https://myanimelist.net/character/45627/Levi  \n",
       "3     https://myanimelist.net/character/71/L_Lawliet  \n",
       "4  https://myanimelist.net/character/62/Zoro_Roronoa  "
      ]
     },
     "execution_count": 148,
     "metadata": {},
     "output_type": "execute_result"
    }
   ],
   "source": [
    "data = pd.read_csv(\"top_1000_mal_characters_scraped.csv\")\n",
    "data.head()"
   ]
  },
  {
   "cell_type": "markdown",
   "id": "4d9b8a3f",
   "metadata": {},
   "source": [
    "### scrape individual pages"
   ]
  },
  {
   "cell_type": "code",
   "execution_count": 150,
   "id": "756ab55f",
   "metadata": {},
   "outputs": [],
   "source": [
    "from playwright.async_api import async_playwright\n",
    "playwright = await async_playwright().start()\n",
    "browser = await playwright.chromium.launch(headless=False)\n",
    "page = await browser.new_page()"
   ]
  },
  {
   "cell_type": "code",
   "execution_count": 151,
   "id": "236f10cf",
   "metadata": {},
   "outputs": [],
   "source": [
    "import requests\n",
    "from bs4 import BeautifulSoup\n",
    "import nest_asyncio\n",
    "import asyncio\n",
    "\n",
    "async def extract_content(url):\n",
    "    try:\n",
    "\n",
    "        await page.goto(url)\n",
    "        html = await page.content()\n",
    "        soup = BeautifulSoup(html, 'html.parser')\n",
    "        \n",
    "        normal_header = soup.find('h2', class_='normal_header')\n",
    "        if not normal_header:\n",
    "            return \"Normal header not found.\"\n",
    "        \n",
    "        content = []\n",
    "        current = normal_header.next_sibling\n",
    "        \n",
    "        while current:\n",
    "            if current.name == 'div' and 'spoiler' in current.get('class', []):\n",
    "                break  # Stop at the first spoiler\n",
    "            if isinstance(current, str):\n",
    "                content.append(current.strip())\n",
    "            elif current.name in ['br']:\n",
    "                content.append('\\n')  # Handle line breaks\n",
    "            elif current.name:\n",
    "                # Extract text from other tags (e.g., <b>, <a>)\n",
    "                content.append(current.get_text(strip=True))\n",
    "            current = current.next_sibling\n",
    "        \n",
    "        # Combine and clean the extracted text\n",
    "        extracted_text = ' '.join(content).replace('\\n\\n', '\\n').strip()\n",
    "        return extracted_text\n",
    "    \n",
    "    except Exception as e:\n",
    "        return f\"Error processing {url}: {str(e)}\""
   ]
  },
  {
   "cell_type": "code",
   "execution_count": 152,
   "id": "56a392bd",
   "metadata": {},
   "outputs": [],
   "source": [
    "urls = data['url']\n",
    "descriptions = []\n",
    "nest_asyncio.apply()\n",
    "for url in urls:\n",
    "    result = await extract_content(url)\n",
    "    time.sleep(2)\n",
    "    descriptions.append(result)"
   ]
  },
  {
   "cell_type": "code",
   "execution_count": 155,
   "id": "7cfb6bb3",
   "metadata": {},
   "outputs": [],
   "source": [
    "d = pd.DataFrame(descriptions, columns=['description'])\n",
    "merged = pd.concat([data, d], axis=1)"
   ]
  },
  {
   "cell_type": "code",
   "execution_count": 116,
   "id": "90ae9083",
   "metadata": {},
   "outputs": [
    {
     "name": "stdout",
     "output_type": "stream",
     "text": [
      "Age: 17 (first season), 18 (second season)\n",
      "Birthday: December 5, 1999 a.t.b. (Sagittarius)\n",
      "Nationality: Britannia\n",
      "Height: 178 cm (5'10\")\n",
      "Occupation: Student, Terrorist, Knightmare Pilot, Politician, Emperor, Prince\n"
     ]
    }
   ],
   "source": [
    "info = {}\n",
    "\n",
    "for line in result.split(\"\\n\"):\n",
    "    line = line.strip()\n",
    "    if line.startswith(\"Age:\"):\n",
    "        info[\"Age\"] = line.replace(\"Age:\", \"\").strip()\n",
    "    elif line.startswith(\"Birthdate:\"):\n",
    "        info[\"Birthday\"] = line.replace(\"Birthdate:\", \"\").strip()\n",
    "    elif line.startswith(\"Nationality:\"):\n",
    "        info[\"Nationality\"] = line.replace(\"Nationality:\", \"\").strip()\n",
    "    elif line.startswith(\"Height:\"):\n",
    "        info[\"Height\"] = line.replace(\"Height:\", \"\").strip()\n",
    "    elif line.startswith(\"Occupation:\"):\n",
    "        info[\"Occupation\"] = line.replace(\"Occupation:\", \"\").strip()\n",
    "\n",
    "for key, value in info.items():\n",
    "    print(f\"{key}: {value}\")"
   ]
  },
  {
   "cell_type": "code",
   "execution_count": 173,
   "id": "e87b1235",
   "metadata": {},
   "outputs": [],
   "source": [
    "def extract_info(text):\n",
    "    info = {\n",
    "        \"Age\": None,\n",
    "        \"Birthday\": None,\n",
    "        \"Nationality\": None,\n",
    "        \"Height\": None,\n",
    "        \"Occupation\": None\n",
    "    }\n",
    "    for line in text.split(\"\\n\"):\n",
    "        line = line.strip()\n",
    "        if line.startswith(\"Age:\"):\n",
    "            info[\"Age\"] = line.replace(\"Age:\", \"\").strip()\n",
    "        elif line.startswith(\"Birthdate:\"):\n",
    "            info[\"Birthday\"] = line.replace(\"Birthdate:\", \"\").strip()\n",
    "        elif line.startswith(\"Nationality:\"):\n",
    "            info[\"Nationality\"] = line.replace(\"Nationality:\", \"\").strip()\n",
    "        elif line.startswith(\"Height:\"):\n",
    "            info[\"Height\"] = line.replace(\"Height:\", \"\").strip()\n",
    "        elif line.startswith(\"Occupation:\"):\n",
    "            info[\"Occupation\"] = line.replace(\"Occupation:\", \"\").strip()\n",
    "    return pd.Series(info)\n",
    "\n",
    "# Apply the function row by row and expand to new columns\n",
    "merged[[\"Age\", \"Birthday\", \"Nationality\", \"Height\", \"Occupation\"]] = merged[\"description\"].apply(extract_info)\n"
   ]
  },
  {
   "cell_type": "code",
   "execution_count": null,
   "id": "fa2e2244",
   "metadata": {},
   "outputs": [],
   "source": [
    "texts = merged['description']\n",
    "for text in texts:\n",
    "    "
   ]
  },
  {
   "cell_type": "markdown",
   "id": "05e1e1ed",
   "metadata": {},
   "source": [
    "### Get the image"
   ]
  },
  {
   "cell_type": "code",
   "execution_count": 176,
   "id": "2c4dc138",
   "metadata": {},
   "outputs": [],
   "source": [
    "async def extract_image(url):\n",
    "    try:\n",
    "\n",
    "        await page.goto(url)\n",
    "        html = await page.content()\n",
    "        soup = BeautifulSoup(html, 'html.parser')\n",
    "        \n",
    "        # Find the image\n",
    "        image = soup.find(\"div\", id=\"content\").find('td').find('img')['src']\n",
    "        return image\n",
    "    except Exception as e:\n",
    "        return f\"Error processing {url}: {str(e)}\""
   ]
  },
  {
   "cell_type": "code",
   "execution_count": 178,
   "id": "3d80d15a",
   "metadata": {},
   "outputs": [],
   "source": [
    "urls = data['url']\n",
    "images = []\n",
    "nest_asyncio.apply()\n",
    "for url in urls:\n",
    "    result = await extract_image(url)\n",
    "    time.sleep(2)\n",
    "    images.append(result)"
   ]
  },
  {
   "cell_type": "code",
   "execution_count": 177,
   "id": "3022b18f",
   "metadata": {},
   "outputs": [
    {
     "data": {
      "text/plain": [
       "'https://cdn.myanimelist.net/images/characters/12/296426.jpg'"
      ]
     },
     "execution_count": 177,
     "metadata": {},
     "output_type": "execute_result"
    }
   ],
   "source": [
    "url = 'https://myanimelist.net/character/2821/Ryousuke_Takahashi'\n",
    "result = await extract_image(url)\n",
    "result"
   ]
  },
  {
   "cell_type": "code",
   "execution_count": 179,
   "id": "96bfca6a",
   "metadata": {},
   "outputs": [],
   "source": [
    "images1 = pd.DataFrame(images, columns=['image'])\n",
    "merged = pd.concat([merged, images1], axis=1)"
   ]
  },
  {
   "cell_type": "code",
   "execution_count": 180,
   "id": "98aac139",
   "metadata": {},
   "outputs": [],
   "source": [
    "merged.to_csv('merged.csv',index = False)"
   ]
  },
  {
   "cell_type": "code",
   "execution_count": 6,
   "id": "4178b01a",
   "metadata": {},
   "outputs": [
    {
     "data": {
      "text/html": [
       "<div>\n",
       "<style scoped>\n",
       "    .dataframe tbody tr th:only-of-type {\n",
       "        vertical-align: middle;\n",
       "    }\n",
       "\n",
       "    .dataframe tbody tr th {\n",
       "        vertical-align: top;\n",
       "    }\n",
       "\n",
       "    .dataframe thead th {\n",
       "        text-align: right;\n",
       "    }\n",
       "</style>\n",
       "<table border=\"1\" class=\"dataframe\">\n",
       "  <thead>\n",
       "    <tr style=\"text-align: right;\">\n",
       "      <th></th>\n",
       "      <th>rank</th>\n",
       "      <th>name</th>\n",
       "      <th>anime</th>\n",
       "      <th>favorites</th>\n",
       "      <th>url</th>\n",
       "      <th>description</th>\n",
       "      <th>image</th>\n",
       "      <th>Age</th>\n",
       "      <th>Birthday</th>\n",
       "      <th>Nationality</th>\n",
       "      <th>Height</th>\n",
       "      <th>Occupation</th>\n",
       "      <th>image.1</th>\n",
       "    </tr>\n",
       "  </thead>\n",
       "  <tbody>\n",
       "    <tr>\n",
       "      <th>0</th>\n",
       "      <td>1</td>\n",
       "      <td>Lamperouge, Lelouch(ルルーシュ・ランペルージ)</td>\n",
       "      <td>Code Geass: Hangyaku no LelouchCode Geass: Han...</td>\n",
       "      <td>173552</td>\n",
       "      <td>https://myanimelist.net/character/417/Lelouch_...</td>\n",
       "      <td>Age: 17 (first season), 18 (second season) \\n ...</td>\n",
       "      <td>NaN</td>\n",
       "      <td>17 (first season), 18 (second season)</td>\n",
       "      <td>December 5, 1999 a.t.b. (Sagittarius)</td>\n",
       "      <td>Britannia</td>\n",
       "      <td>178 cm (5'10\")</td>\n",
       "      <td>Student, Terrorist, Knightmare Pilot, Politici...</td>\n",
       "      <td>Error processing https://myanimelist.net/chara...</td>\n",
       "    </tr>\n",
       "    <tr>\n",
       "      <th>1</th>\n",
       "      <td>2</td>\n",
       "      <td>Monkey D., Luffy(モンキー・D・ルフィ)</td>\n",
       "      <td>One PieceOne Piece Movie 01One Piece Movie 02:...</td>\n",
       "      <td>143840</td>\n",
       "      <td>https://myanimelist.net/character/40/Luffy_Mon...</td>\n",
       "      <td>Age: 17; 19 \\n Birthdate: May 5, Taurus \\n Hei...</td>\n",
       "      <td>NaN</td>\n",
       "      <td>17; 19</td>\n",
       "      <td>May 5, Taurus</td>\n",
       "      <td>NaN</td>\n",
       "      <td>172 cm; 174 cm</td>\n",
       "      <td>NaN</td>\n",
       "      <td>https://cdn.myanimelist.net/images/characters/...</td>\n",
       "    </tr>\n",
       "    <tr>\n",
       "      <th>2</th>\n",
       "      <td>3</td>\n",
       "      <td>Levi(リヴァイ)</td>\n",
       "      <td>Shingeki no Kyojin: Kuinaki SentakuShingeki no...</td>\n",
       "      <td>143364</td>\n",
       "      <td>https://myanimelist.net/character/45627/Levi</td>\n",
       "      <td>Birthday: December 25 \\n Height: 160 cm (5'3\")...</td>\n",
       "      <td>NaN</td>\n",
       "      <td>NaN</td>\n",
       "      <td>NaN</td>\n",
       "      <td>NaN</td>\n",
       "      <td>160 cm (5'3\")</td>\n",
       "      <td>NaN</td>\n",
       "      <td>https://cdn.myanimelist.net/images/characters/...</td>\n",
       "    </tr>\n",
       "    <tr>\n",
       "      <th>3</th>\n",
       "      <td>4</td>\n",
       "      <td>Lawliet, L(エル ローライト)</td>\n",
       "      <td>Death NoteDeath Note: Rewrite</td>\n",
       "      <td>128375</td>\n",
       "      <td>https://myanimelist.net/character/71/L_Lawliet</td>\n",
       "      <td>Birthday: October 31, 1979 (1982 in anime) \\n ...</td>\n",
       "      <td>NaN</td>\n",
       "      <td>NaN</td>\n",
       "      <td>NaN</td>\n",
       "      <td>NaN</td>\n",
       "      <td>179 cm (5'10\")</td>\n",
       "      <td>NaN</td>\n",
       "      <td>Error processing https://myanimelist.net/chara...</td>\n",
       "    </tr>\n",
       "    <tr>\n",
       "      <th>4</th>\n",
       "      <td>5</td>\n",
       "      <td>Roronoa, Zoro(ロロノア・ゾロ)</td>\n",
       "      <td>One PieceOne Piece Movie 01One Piece Movie 02:...</td>\n",
       "      <td>113243</td>\n",
       "      <td>https://myanimelist.net/character/62/Zoro_Roronoa</td>\n",
       "      <td>Error processing https://myanimelist.net/chara...</td>\n",
       "      <td>NaN</td>\n",
       "      <td>NaN</td>\n",
       "      <td>NaN</td>\n",
       "      <td>NaN</td>\n",
       "      <td>NaN</td>\n",
       "      <td>NaN</td>\n",
       "      <td>https://cdn.myanimelist.net/images/characters/...</td>\n",
       "    </tr>\n",
       "  </tbody>\n",
       "</table>\n",
       "</div>"
      ],
      "text/plain": [
       "   rank                               name  \\\n",
       "0     1  Lamperouge, Lelouch(ルルーシュ・ランペルージ)   \n",
       "1     2       Monkey D., Luffy(モンキー・D・ルフィ)   \n",
       "2     3                         Levi(リヴァイ)   \n",
       "3     4               Lawliet, L(エル ローライト)   \n",
       "4     5             Roronoa, Zoro(ロロノア・ゾロ)   \n",
       "\n",
       "                                               anime  favorites  \\\n",
       "0  Code Geass: Hangyaku no LelouchCode Geass: Han...     173552   \n",
       "1  One PieceOne Piece Movie 01One Piece Movie 02:...     143840   \n",
       "2  Shingeki no Kyojin: Kuinaki SentakuShingeki no...     143364   \n",
       "3                      Death NoteDeath Note: Rewrite     128375   \n",
       "4  One PieceOne Piece Movie 01One Piece Movie 02:...     113243   \n",
       "\n",
       "                                                 url  \\\n",
       "0  https://myanimelist.net/character/417/Lelouch_...   \n",
       "1  https://myanimelist.net/character/40/Luffy_Mon...   \n",
       "2       https://myanimelist.net/character/45627/Levi   \n",
       "3     https://myanimelist.net/character/71/L_Lawliet   \n",
       "4  https://myanimelist.net/character/62/Zoro_Roronoa   \n",
       "\n",
       "                                         description image  \\\n",
       "0  Age: 17 (first season), 18 (second season) \\n ...   NaN   \n",
       "1  Age: 17; 19 \\n Birthdate: May 5, Taurus \\n Hei...   NaN   \n",
       "2  Birthday: December 25 \\n Height: 160 cm (5'3\")...   NaN   \n",
       "3  Birthday: October 31, 1979 (1982 in anime) \\n ...   NaN   \n",
       "4  Error processing https://myanimelist.net/chara...   NaN   \n",
       "\n",
       "                                     Age  \\\n",
       "0  17 (first season), 18 (second season)   \n",
       "1                                 17; 19   \n",
       "2                                    NaN   \n",
       "3                                    NaN   \n",
       "4                                    NaN   \n",
       "\n",
       "                                Birthday Nationality          Height  \\\n",
       "0  December 5, 1999 a.t.b. (Sagittarius)   Britannia  178 cm (5'10\")   \n",
       "1                          May 5, Taurus         NaN  172 cm; 174 cm   \n",
       "2                                    NaN         NaN   160 cm (5'3\")   \n",
       "3                                    NaN         NaN  179 cm (5'10\")   \n",
       "4                                    NaN         NaN             NaN   \n",
       "\n",
       "                                          Occupation  \\\n",
       "0  Student, Terrorist, Knightmare Pilot, Politici...   \n",
       "1                                                NaN   \n",
       "2                                                NaN   \n",
       "3                                                NaN   \n",
       "4                                                NaN   \n",
       "\n",
       "                                             image.1  \n",
       "0  Error processing https://myanimelist.net/chara...  \n",
       "1  https://cdn.myanimelist.net/images/characters/...  \n",
       "2  https://cdn.myanimelist.net/images/characters/...  \n",
       "3  Error processing https://myanimelist.net/chara...  \n",
       "4  https://cdn.myanimelist.net/images/characters/...  "
      ]
     },
     "execution_count": 6,
     "metadata": {},
     "output_type": "execute_result"
    }
   ],
   "source": [
    "merged = pd.read_csv('merged.csv')\n",
    "merged.head()"
   ]
  },
  {
   "cell_type": "markdown",
   "id": "818d1ed9",
   "metadata": {},
   "source": [
    "## Find the gender "
   ]
  },
  {
   "cell_type": "code",
   "execution_count": 7,
   "id": "11304f12",
   "metadata": {},
   "outputs": [],
   "source": [
    "def detect_gender(desc):\n",
    "    desc = desc.lower()\n",
    "    female_keywords = ['she', 'her', 'woman', 'girl', 'female', 'lady']\n",
    "    male_keywords = ['he', 'him', 'man', 'boy', 'male', 'gentleman']\n",
    "    \n",
    "    # Count matches\n",
    "    female_score = sum(word in desc for word in female_keywords)\n",
    "    male_score = sum(word in desc for word in male_keywords)\n",
    "\n",
    "    if female_score > male_score:\n",
    "        return 'female'\n",
    "    elif male_score > female_score:\n",
    "        return 'male'\n",
    "    else:\n",
    "        return 'unknown'"
   ]
  },
  {
   "cell_type": "code",
   "execution_count": 8,
   "id": "c456e9ed",
   "metadata": {},
   "outputs": [
    {
     "ename": "AttributeError",
     "evalue": "'float' object has no attribute 'lower'",
     "output_type": "error",
     "traceback": [
      "\u001b[0;31m---------------------------------------------------------------------------\u001b[0m",
      "\u001b[0;31mAttributeError\u001b[0m                            Traceback (most recent call last)",
      "Cell \u001b[0;32mIn[8], line 1\u001b[0m\n\u001b[0;32m----> 1\u001b[0m merged[\u001b[38;5;124m'\u001b[39m\u001b[38;5;124mgender\u001b[39m\u001b[38;5;124m'\u001b[39m] \u001b[38;5;241m=\u001b[39m \u001b[43mmerged\u001b[49m\u001b[43m[\u001b[49m\u001b[38;5;124;43m'\u001b[39;49m\u001b[38;5;124;43mdescription\u001b[39;49m\u001b[38;5;124;43m'\u001b[39;49m\u001b[43m]\u001b[49m\u001b[38;5;241;43m.\u001b[39;49m\u001b[43mapply\u001b[49m\u001b[43m(\u001b[49m\u001b[43mdetect_gender\u001b[49m\u001b[43m)\u001b[49m\n",
      "File \u001b[0;32m~/.pyenv/versions/3.12.7/lib/python3.12/site-packages/pandas/core/series.py:4924\u001b[0m, in \u001b[0;36mSeries.apply\u001b[0;34m(self, func, convert_dtype, args, by_row, **kwargs)\u001b[0m\n\u001b[1;32m   4789\u001b[0m \u001b[38;5;28;01mdef\u001b[39;00m \u001b[38;5;21mapply\u001b[39m(\n\u001b[1;32m   4790\u001b[0m     \u001b[38;5;28mself\u001b[39m,\n\u001b[1;32m   4791\u001b[0m     func: AggFuncType,\n\u001b[0;32m   (...)\u001b[0m\n\u001b[1;32m   4796\u001b[0m     \u001b[38;5;241m*\u001b[39m\u001b[38;5;241m*\u001b[39mkwargs,\n\u001b[1;32m   4797\u001b[0m ) \u001b[38;5;241m-\u001b[39m\u001b[38;5;241m>\u001b[39m DataFrame \u001b[38;5;241m|\u001b[39m Series:\n\u001b[1;32m   4798\u001b[0m \u001b[38;5;250m    \u001b[39m\u001b[38;5;124;03m\"\"\"\u001b[39;00m\n\u001b[1;32m   4799\u001b[0m \u001b[38;5;124;03m    Invoke function on values of Series.\u001b[39;00m\n\u001b[1;32m   4800\u001b[0m \n\u001b[0;32m   (...)\u001b[0m\n\u001b[1;32m   4915\u001b[0m \u001b[38;5;124;03m    dtype: float64\u001b[39;00m\n\u001b[1;32m   4916\u001b[0m \u001b[38;5;124;03m    \"\"\"\u001b[39;00m\n\u001b[1;32m   4917\u001b[0m     \u001b[38;5;28;01mreturn\u001b[39;00m \u001b[43mSeriesApply\u001b[49m\u001b[43m(\u001b[49m\n\u001b[1;32m   4918\u001b[0m \u001b[43m        \u001b[49m\u001b[38;5;28;43mself\u001b[39;49m\u001b[43m,\u001b[49m\n\u001b[1;32m   4919\u001b[0m \u001b[43m        \u001b[49m\u001b[43mfunc\u001b[49m\u001b[43m,\u001b[49m\n\u001b[1;32m   4920\u001b[0m \u001b[43m        \u001b[49m\u001b[43mconvert_dtype\u001b[49m\u001b[38;5;241;43m=\u001b[39;49m\u001b[43mconvert_dtype\u001b[49m\u001b[43m,\u001b[49m\n\u001b[1;32m   4921\u001b[0m \u001b[43m        \u001b[49m\u001b[43mby_row\u001b[49m\u001b[38;5;241;43m=\u001b[39;49m\u001b[43mby_row\u001b[49m\u001b[43m,\u001b[49m\n\u001b[1;32m   4922\u001b[0m \u001b[43m        \u001b[49m\u001b[43margs\u001b[49m\u001b[38;5;241;43m=\u001b[39;49m\u001b[43margs\u001b[49m\u001b[43m,\u001b[49m\n\u001b[1;32m   4923\u001b[0m \u001b[43m        \u001b[49m\u001b[43mkwargs\u001b[49m\u001b[38;5;241;43m=\u001b[39;49m\u001b[43mkwargs\u001b[49m\u001b[43m,\u001b[49m\n\u001b[0;32m-> 4924\u001b[0m \u001b[43m    \u001b[49m\u001b[43m)\u001b[49m\u001b[38;5;241;43m.\u001b[39;49m\u001b[43mapply\u001b[49m\u001b[43m(\u001b[49m\u001b[43m)\u001b[49m\n",
      "File \u001b[0;32m~/.pyenv/versions/3.12.7/lib/python3.12/site-packages/pandas/core/apply.py:1427\u001b[0m, in \u001b[0;36mSeriesApply.apply\u001b[0;34m(self)\u001b[0m\n\u001b[1;32m   1424\u001b[0m     \u001b[38;5;28;01mreturn\u001b[39;00m \u001b[38;5;28mself\u001b[39m\u001b[38;5;241m.\u001b[39mapply_compat()\n\u001b[1;32m   1426\u001b[0m \u001b[38;5;66;03m# self.func is Callable\u001b[39;00m\n\u001b[0;32m-> 1427\u001b[0m \u001b[38;5;28;01mreturn\u001b[39;00m \u001b[38;5;28;43mself\u001b[39;49m\u001b[38;5;241;43m.\u001b[39;49m\u001b[43mapply_standard\u001b[49m\u001b[43m(\u001b[49m\u001b[43m)\u001b[49m\n",
      "File \u001b[0;32m~/.pyenv/versions/3.12.7/lib/python3.12/site-packages/pandas/core/apply.py:1507\u001b[0m, in \u001b[0;36mSeriesApply.apply_standard\u001b[0;34m(self)\u001b[0m\n\u001b[1;32m   1501\u001b[0m \u001b[38;5;66;03m# row-wise access\u001b[39;00m\n\u001b[1;32m   1502\u001b[0m \u001b[38;5;66;03m# apply doesn't have a `na_action` keyword and for backward compat reasons\u001b[39;00m\n\u001b[1;32m   1503\u001b[0m \u001b[38;5;66;03m# we need to give `na_action=\"ignore\"` for categorical data.\u001b[39;00m\n\u001b[1;32m   1504\u001b[0m \u001b[38;5;66;03m# TODO: remove the `na_action=\"ignore\"` when that default has been changed in\u001b[39;00m\n\u001b[1;32m   1505\u001b[0m \u001b[38;5;66;03m#  Categorical (GH51645).\u001b[39;00m\n\u001b[1;32m   1506\u001b[0m action \u001b[38;5;241m=\u001b[39m \u001b[38;5;124m\"\u001b[39m\u001b[38;5;124mignore\u001b[39m\u001b[38;5;124m\"\u001b[39m \u001b[38;5;28;01mif\u001b[39;00m \u001b[38;5;28misinstance\u001b[39m(obj\u001b[38;5;241m.\u001b[39mdtype, CategoricalDtype) \u001b[38;5;28;01melse\u001b[39;00m \u001b[38;5;28;01mNone\u001b[39;00m\n\u001b[0;32m-> 1507\u001b[0m mapped \u001b[38;5;241m=\u001b[39m \u001b[43mobj\u001b[49m\u001b[38;5;241;43m.\u001b[39;49m\u001b[43m_map_values\u001b[49m\u001b[43m(\u001b[49m\n\u001b[1;32m   1508\u001b[0m \u001b[43m    \u001b[49m\u001b[43mmapper\u001b[49m\u001b[38;5;241;43m=\u001b[39;49m\u001b[43mcurried\u001b[49m\u001b[43m,\u001b[49m\u001b[43m \u001b[49m\u001b[43mna_action\u001b[49m\u001b[38;5;241;43m=\u001b[39;49m\u001b[43maction\u001b[49m\u001b[43m,\u001b[49m\u001b[43m \u001b[49m\u001b[43mconvert\u001b[49m\u001b[38;5;241;43m=\u001b[39;49m\u001b[38;5;28;43mself\u001b[39;49m\u001b[38;5;241;43m.\u001b[39;49m\u001b[43mconvert_dtype\u001b[49m\n\u001b[1;32m   1509\u001b[0m \u001b[43m\u001b[49m\u001b[43m)\u001b[49m\n\u001b[1;32m   1511\u001b[0m \u001b[38;5;28;01mif\u001b[39;00m \u001b[38;5;28mlen\u001b[39m(mapped) \u001b[38;5;129;01mand\u001b[39;00m \u001b[38;5;28misinstance\u001b[39m(mapped[\u001b[38;5;241m0\u001b[39m], ABCSeries):\n\u001b[1;32m   1512\u001b[0m     \u001b[38;5;66;03m# GH#43986 Need to do list(mapped) in order to get treated as nested\u001b[39;00m\n\u001b[1;32m   1513\u001b[0m     \u001b[38;5;66;03m#  See also GH#25959 regarding EA support\u001b[39;00m\n\u001b[1;32m   1514\u001b[0m     \u001b[38;5;28;01mreturn\u001b[39;00m obj\u001b[38;5;241m.\u001b[39m_constructor_expanddim(\u001b[38;5;28mlist\u001b[39m(mapped), index\u001b[38;5;241m=\u001b[39mobj\u001b[38;5;241m.\u001b[39mindex)\n",
      "File \u001b[0;32m~/.pyenv/versions/3.12.7/lib/python3.12/site-packages/pandas/core/base.py:921\u001b[0m, in \u001b[0;36mIndexOpsMixin._map_values\u001b[0;34m(self, mapper, na_action, convert)\u001b[0m\n\u001b[1;32m    918\u001b[0m \u001b[38;5;28;01mif\u001b[39;00m \u001b[38;5;28misinstance\u001b[39m(arr, ExtensionArray):\n\u001b[1;32m    919\u001b[0m     \u001b[38;5;28;01mreturn\u001b[39;00m arr\u001b[38;5;241m.\u001b[39mmap(mapper, na_action\u001b[38;5;241m=\u001b[39mna_action)\n\u001b[0;32m--> 921\u001b[0m \u001b[38;5;28;01mreturn\u001b[39;00m \u001b[43malgorithms\u001b[49m\u001b[38;5;241;43m.\u001b[39;49m\u001b[43mmap_array\u001b[49m\u001b[43m(\u001b[49m\u001b[43marr\u001b[49m\u001b[43m,\u001b[49m\u001b[43m \u001b[49m\u001b[43mmapper\u001b[49m\u001b[43m,\u001b[49m\u001b[43m \u001b[49m\u001b[43mna_action\u001b[49m\u001b[38;5;241;43m=\u001b[39;49m\u001b[43mna_action\u001b[49m\u001b[43m,\u001b[49m\u001b[43m \u001b[49m\u001b[43mconvert\u001b[49m\u001b[38;5;241;43m=\u001b[39;49m\u001b[43mconvert\u001b[49m\u001b[43m)\u001b[49m\n",
      "File \u001b[0;32m~/.pyenv/versions/3.12.7/lib/python3.12/site-packages/pandas/core/algorithms.py:1743\u001b[0m, in \u001b[0;36mmap_array\u001b[0;34m(arr, mapper, na_action, convert)\u001b[0m\n\u001b[1;32m   1741\u001b[0m values \u001b[38;5;241m=\u001b[39m arr\u001b[38;5;241m.\u001b[39mastype(\u001b[38;5;28mobject\u001b[39m, copy\u001b[38;5;241m=\u001b[39m\u001b[38;5;28;01mFalse\u001b[39;00m)\n\u001b[1;32m   1742\u001b[0m \u001b[38;5;28;01mif\u001b[39;00m na_action \u001b[38;5;129;01mis\u001b[39;00m \u001b[38;5;28;01mNone\u001b[39;00m:\n\u001b[0;32m-> 1743\u001b[0m     \u001b[38;5;28;01mreturn\u001b[39;00m \u001b[43mlib\u001b[49m\u001b[38;5;241;43m.\u001b[39;49m\u001b[43mmap_infer\u001b[49m\u001b[43m(\u001b[49m\u001b[43mvalues\u001b[49m\u001b[43m,\u001b[49m\u001b[43m \u001b[49m\u001b[43mmapper\u001b[49m\u001b[43m,\u001b[49m\u001b[43m \u001b[49m\u001b[43mconvert\u001b[49m\u001b[38;5;241;43m=\u001b[39;49m\u001b[43mconvert\u001b[49m\u001b[43m)\u001b[49m\n\u001b[1;32m   1744\u001b[0m \u001b[38;5;28;01melse\u001b[39;00m:\n\u001b[1;32m   1745\u001b[0m     \u001b[38;5;28;01mreturn\u001b[39;00m lib\u001b[38;5;241m.\u001b[39mmap_infer_mask(\n\u001b[1;32m   1746\u001b[0m         values, mapper, mask\u001b[38;5;241m=\u001b[39misna(values)\u001b[38;5;241m.\u001b[39mview(np\u001b[38;5;241m.\u001b[39muint8), convert\u001b[38;5;241m=\u001b[39mconvert\n\u001b[1;32m   1747\u001b[0m     )\n",
      "File \u001b[0;32mlib.pyx:2972\u001b[0m, in \u001b[0;36mpandas._libs.lib.map_infer\u001b[0;34m()\u001b[0m\n",
      "Cell \u001b[0;32mIn[7], line 2\u001b[0m, in \u001b[0;36mdetect_gender\u001b[0;34m(desc)\u001b[0m\n\u001b[1;32m      1\u001b[0m \u001b[38;5;28;01mdef\u001b[39;00m \u001b[38;5;21mdetect_gender\u001b[39m(desc):\n\u001b[0;32m----> 2\u001b[0m     desc \u001b[38;5;241m=\u001b[39m \u001b[43mdesc\u001b[49m\u001b[38;5;241;43m.\u001b[39;49m\u001b[43mlower\u001b[49m()\n\u001b[1;32m      3\u001b[0m     female_keywords \u001b[38;5;241m=\u001b[39m [\u001b[38;5;124m'\u001b[39m\u001b[38;5;124mshe\u001b[39m\u001b[38;5;124m'\u001b[39m, \u001b[38;5;124m'\u001b[39m\u001b[38;5;124mher\u001b[39m\u001b[38;5;124m'\u001b[39m, \u001b[38;5;124m'\u001b[39m\u001b[38;5;124mwoman\u001b[39m\u001b[38;5;124m'\u001b[39m, \u001b[38;5;124m'\u001b[39m\u001b[38;5;124mgirl\u001b[39m\u001b[38;5;124m'\u001b[39m, \u001b[38;5;124m'\u001b[39m\u001b[38;5;124mfemale\u001b[39m\u001b[38;5;124m'\u001b[39m, \u001b[38;5;124m'\u001b[39m\u001b[38;5;124mlady\u001b[39m\u001b[38;5;124m'\u001b[39m]\n\u001b[1;32m      4\u001b[0m     male_keywords \u001b[38;5;241m=\u001b[39m [\u001b[38;5;124m'\u001b[39m\u001b[38;5;124mhe\u001b[39m\u001b[38;5;124m'\u001b[39m, \u001b[38;5;124m'\u001b[39m\u001b[38;5;124mhim\u001b[39m\u001b[38;5;124m'\u001b[39m, \u001b[38;5;124m'\u001b[39m\u001b[38;5;124mman\u001b[39m\u001b[38;5;124m'\u001b[39m, \u001b[38;5;124m'\u001b[39m\u001b[38;5;124mboy\u001b[39m\u001b[38;5;124m'\u001b[39m, \u001b[38;5;124m'\u001b[39m\u001b[38;5;124mmale\u001b[39m\u001b[38;5;124m'\u001b[39m, \u001b[38;5;124m'\u001b[39m\u001b[38;5;124mgentleman\u001b[39m\u001b[38;5;124m'\u001b[39m]\n",
      "\u001b[0;31mAttributeError\u001b[0m: 'float' object has no attribute 'lower'"
     ]
    }
   ],
   "source": [
    "merged['gender'] = merged['description'].apply(detect_gender)"
   ]
  },
  {
   "cell_type": "markdown",
   "id": "6b5f851c",
   "metadata": {},
   "source": [
    "# 3. Use NLP Model to get characters ethnicity impression"
   ]
  },
  {
   "cell_type": "code",
   "execution_count": null,
   "id": "1c4e2076",
   "metadata": {},
   "outputs": [],
   "source": []
  },
  {
   "cell_type": "markdown",
   "id": "1891e19f",
   "metadata": {},
   "source": []
  }
 ],
 "metadata": {
  "kernelspec": {
   "display_name": "Python 3",
   "language": "python",
   "name": "python3"
  },
  "language_info": {
   "codemirror_mode": {
    "name": "ipython",
    "version": 3
   },
   "file_extension": ".py",
   "mimetype": "text/x-python",
   "name": "python",
   "nbconvert_exporter": "python",
   "pygments_lexer": "ipython3",
   "version": "3.12.7"
  }
 },
 "nbformat": 4,
 "nbformat_minor": 5
}
